{
 "cells": [
  {
   "cell_type": "code",
   "execution_count": 1,
   "metadata": {},
   "outputs": [],
   "source": [
    "import scipy.sparse as sparse\n",
    "import numpy as np\n",
    "import control\n",
    "from mpc_control.controller import MPCController"
   ]
  },
  {
   "cell_type": "code",
   "execution_count": 4,
   "metadata": {},
   "outputs": [],
   "source": [
    "''' Pendulum Dynamics in States Space Equation '''\n",
    "    \n",
    "M = 20  # Cart mass\n",
    "m = 2  # Pendulum mass\n",
    "b = 0.1  # Coefficient of friction for cart\n",
    "l = 0.5  # Length to pendulum center of mass\n",
    "I = (m*l**2)*(1/3)  # Mass moment of inertia of the pendulum\n",
    "g = 9.8  # Gravity\n",
    "dt = 0.2 # Time step\n",
    "\n",
    "\n",
    "p = I*(M+m)+M*m*l**2\n",
    "\n",
    "A = np.array([[0,      1,              0,            0],\n",
    "    [0, -(I+m*l**2)*b/p,  (m**2*g*l**2)/p, 0],\n",
    "    [0,      0,              0,            1],\n",
    "    [0, -(m*l*b)/p,       m*g*l*(M+m)/p,   0]])\n",
    "\n",
    "B = np.array([[0],\n",
    "    [(I+m*l**2)/p],\n",
    "    [0],\n",
    "    [m*l/p]])\n",
    "\n",
    "C = np.array([[1, 0, 0, 0],\n",
    "        [0, 0, 1, 0]])\n",
    "\n",
    "D = np.array([[0],\n",
    "        [0]])\n",
    "\n",
    "sys = control.StateSpace(A, B, C, D)\n",
    "sys_discrete = control.c2d(sys, dt, method='zoh')\n",
    "\n",
    "A_zoh = np.array(sys_discrete.A)\n",
    "B_zoh = np.array(sys_discrete.B)\n",
    "\n",
    "''' Model Predictive Control implementation using State Space Equation '''\n",
    "\n",
    "nx, nu = B_zoh.shape\n",
    "Q = sparse.diags([10.0, 10.0, 10.0, 10.0]).toarray()\n",
    "R = np.array([[0.1]])\n",
    "\n",
    "xr = np.array([2.0, 0.0, 0.0, 0.0]).astype(float)  # Desired states\n",
    "# xr *= -1.0\n",
    "N = 20 # length of horizon\n",
    "dt = 0.01 # time step\n"
   ]
  },
  {
   "cell_type": "code",
   "execution_count": 5,
   "metadata": {},
   "outputs": [],
   "source": [
    "controller = MPCController(A_zoh, B_zoh, Np=N, Qx=Q, Qu=R, xref=xr)\n",
    "controller.setup()"
   ]
  },
  {
   "cell_type": "code",
   "execution_count": 6,
   "metadata": {},
   "outputs": [],
   "source": [
    "\n",
    "JX_ON = True\n",
    "JU_ON = True\n",
    "JDU_ON = True\n",
    "SOFT_ON = True\n",
    "\n"
   ]
  },
  {
   "cell_type": "markdown",
   "metadata": {},
   "source": [
    "## compute the matrices required for Quadratic Program"
   ]
  },
  {
   "cell_type": "code",
   "execution_count": 1,
   "metadata": {},
   "outputs": [],
   "source": [
    "def compute_QP_matrices():\n",
    "    Np = 5\n",
    "    Nc = 5 \n",
    "    nx = 4\n",
    "    nu = 1\n",
    "    eps_feas=1e6\n",
    "    Qx = sparse.diags([10., 5., 100., 5.])\n",
    "    QxN = Qx.copy()\n",
    "    Qu = sparse.diags([0.1]) \n",
    "    QDu = np.zeros((nu,nu))\n",
    "    xref = np.array([0., 0., 0., 0.])\n",
    "    uref = np.zeros(nu)\n",
    "    uminus1 = uref\n",
    "    Qeps = eps_feas * sparse.eye(nx)\n",
    "    # Ad = Ad\n",
    "    # Bd = Bd\n",
    "    # x0 = x0\n",
    "    # xmin = xmin\n",
    "    # xmax = xmax\n",
    "    # umin = umin\n",
    "    # umax = umax\n",
    "    # Dumin = Dumin\n",
    "    # Dumax = Dumax\n",
    "    # Qeps = Qeps\n",
    "\n",
    "    # casting the MPC problem to a Quadratic Program \n",
    "    P_X = sparse.csc_matrix(((Np+1)*nx, (Np+1)*nx))\n",
    "    q_X = np.zeros((Np+1)*nx)  # x_N\n",
    "    J_CNST = 0.0\n",
    "    # for penalizing the states\n",
    "    if JX_ON:\n",
    "        P_X += sparse.block_diag([sparse.kron(sparse.eye(Np), Qx),QxN])   # quadratic part \n",
    "        q_X += np.hstack([np.kron(np.ones(Np), -Qx.dot(xref)),-QxN.dot(xref)])  # linear part\n",
    "    else:\n",
    "        pass\n",
    "    # for penalizing the control inputs\n",
    "    P_U = sparse.csc_matrix((Nc*nu, Nc*nu))\n",
    "    q_U = np.zeros(Nc*nu)\n",
    "    if JU_ON:\n",
    "        J_CNST += 1/2*Np*(uref.dot(Qu.dot(uref)))\n",
    "        if Nc == Np:\n",
    "            P_U += sparse.kron(sparse.eye(Nc), Qu)\n",
    "            q_U += np.kron(np.ones(Nc), -Qu.dot(uref))\n",
    "    else:\n",
    "        pass\n",
    "    # for penalizing change in control inputs\n",
    "    if JDU_ON:\n",
    "            J_CNST += 1/2*uminus1.dot((QDu).dot(uminus1))\n",
    "            iDu = 2 * np.eye(Nc) - np.eye(Nc, k=1) - np.eye(Nc, k=-1)\n",
    "            iDu[Nc - 1, Nc - 1] = 1\n",
    "            P_U += sparse.kron(iDu, QDu)\n",
    "            q_U += np.hstack([-QDu.dot(uminus1),np.zeros((Nc - 1) * nu)]) \n",
    "    else:\n",
    "        pass \n",
    "    # introducing soft constraints \n",
    "    if SOFT_ON:\n",
    "            P_eps = sparse.kron(np.eye((Np+1)), Qeps)\n",
    "            q_eps = np.zeros((Np+1)*nx)\n",
    "\n",
    "\n",
    "    # linear dynamics x_k+1 = Ax_k + Bu_k\n",
    "    Ax = sparse.kron(sparse.eye(Np + 1), -sparse.eye(nx)) + sparse.kron(sparse.eye(Np + 1, k=-1), Ad)\n",
    "\n",
    "\n",
    "\n",
    "\n",
    "\n",
    "\n",
    "\n",
    "    \n",
    "    \n",
    "\n",
    "\n",
    "        \n",
    "\n",
    "\n",
    "\n"
   ]
  },
  {
   "cell_type": "code",
   "execution_count": 10,
   "metadata": {},
   "outputs": [],
   "source": [
    "Np = 5\n",
    "Nc = 5 "
   ]
  },
  {
   "cell_type": "code",
   "execution_count": 15,
   "metadata": {},
   "outputs": [
    {
     "data": {
      "text/plain": [
       "(24, 24)"
      ]
     },
     "execution_count": 15,
     "metadata": {},
     "output_type": "execute_result"
    }
   ],
   "source": [
    "P_X = sparse.csc_matrix(((Np+1)*nx, (Np+1)*nx))\n",
    "P_X.toarray().shape"
   ]
  },
  {
   "cell_type": "code",
   "execution_count": 7,
   "metadata": {},
   "outputs": [
    {
     "ename": "NameError",
     "evalue": "name 'Ad' is not defined",
     "output_type": "error",
     "traceback": [
      "\u001b[0;31m---------------------------------------------------------------------------\u001b[0m",
      "\u001b[0;31mNameError\u001b[0m                                 Traceback (most recent call last)",
      "Cell \u001b[0;32mIn[7], line 1\u001b[0m\n\u001b[0;32m----> 1\u001b[0m \u001b[43mcompute_QP_matrices\u001b[49m\u001b[43m(\u001b[49m\u001b[43m)\u001b[49m\n",
      "Cell \u001b[0;32mIn[1], line 62\u001b[0m, in \u001b[0;36mcompute_QP_matrices\u001b[0;34m()\u001b[0m\n\u001b[1;32m     58\u001b[0m         q_eps \u001b[38;5;241m=\u001b[39m np\u001b[38;5;241m.\u001b[39mzeros((Np\u001b[38;5;241m+\u001b[39m\u001b[38;5;241m1\u001b[39m)\u001b[38;5;241m*\u001b[39mnx)\n\u001b[1;32m     61\u001b[0m \u001b[38;5;66;03m# linear dynamics x_k+1 = Ax_k + Bu_k\u001b[39;00m\n\u001b[0;32m---> 62\u001b[0m Ax \u001b[38;5;241m=\u001b[39m sparse\u001b[38;5;241m.\u001b[39mkron(sparse\u001b[38;5;241m.\u001b[39meye(Np \u001b[38;5;241m+\u001b[39m \u001b[38;5;241m1\u001b[39m), \u001b[38;5;241m-\u001b[39msparse\u001b[38;5;241m.\u001b[39meye(nx)) \u001b[38;5;241m+\u001b[39m sparse\u001b[38;5;241m.\u001b[39mkron(sparse\u001b[38;5;241m.\u001b[39meye(Np \u001b[38;5;241m+\u001b[39m \u001b[38;5;241m1\u001b[39m, k\u001b[38;5;241m=\u001b[39m\u001b[38;5;241m-\u001b[39m\u001b[38;5;241m1\u001b[39m), \u001b[43mAd\u001b[49m)\n",
      "\u001b[0;31mNameError\u001b[0m: name 'Ad' is not defined"
     ]
    }
   ],
   "source": [
    "compute_QP_matrices()"
   ]
  },
  {
   "cell_type": "code",
   "execution_count": 32,
   "metadata": {},
   "outputs": [
    {
     "data": {
      "text/plain": [
       "array([1., 1., 1., 1., 1.])"
      ]
     },
     "execution_count": 32,
     "metadata": {},
     "output_type": "execute_result"
    }
   ],
   "source": [
    "np.ones(Np)"
   ]
  },
  {
   "cell_type": "code",
   "execution_count": 31,
   "metadata": {},
   "outputs": [
    {
     "data": {
      "text/plain": [
       "array([-0., -0., -0., -0.])"
      ]
     },
     "execution_count": 31,
     "metadata": {},
     "output_type": "execute_result"
    }
   ],
   "source": [
    "Np = 5\n",
    "Nc = 5 \n",
    "nx = 4\n",
    "nu = 1\n",
    "Qx = sparse.diags([10., 5., 100., 5.])\n",
    "QxN = Qx.copy()\n",
    "Qu = sparse.diags([0.1]) \n",
    "# QDu = QDu\n",
    "xref = np.array([0., 0., 0., 0.])\n",
    "-Qx.dot(xref)"
   ]
  },
  {
   "cell_type": "code",
   "execution_count": 33,
   "metadata": {},
   "outputs": [
    {
     "data": {
      "text/plain": [
       "array([-0., -0., -0., -0., -0., -0., -0., -0., -0., -0., -0., -0., -0.,\n",
       "       -0., -0., -0., -0., -0., -0., -0.])"
      ]
     },
     "execution_count": 33,
     "metadata": {},
     "output_type": "execute_result"
    }
   ],
   "source": [
    "np.kron(np.ones(Np), -Qx.dot(xref))"
   ]
  },
  {
   "cell_type": "markdown",
   "metadata": {},
   "source": [
    "### inequality constraints"
   ]
  },
  {
   "cell_type": "code",
   "execution_count": 9,
   "metadata": {},
   "outputs": [],
   "source": [
    "Nc = 2\n",
    "Np = 2\n",
    "umin = 3\n",
    "nu = 1\n",
    "nx = 2"
   ]
  },
  {
   "cell_type": "code",
   "execution_count": 6,
   "metadata": {},
   "outputs": [
    {
     "data": {
      "text/plain": [
       "array([[1., 0., 0., 0., 0., 0.],\n",
       "       [0., 1., 0., 0., 0., 0.],\n",
       "       [0., 0., 1., 0., 0., 0.],\n",
       "       [0., 0., 0., 1., 0., 0.],\n",
       "       [0., 0., 0., 0., 1., 0.],\n",
       "       [0., 0., 0., 0., 0., 1.]])"
      ]
     },
     "execution_count": 6,
     "metadata": {},
     "output_type": "execute_result"
    }
   ],
   "source": [
    "sparse.eye(6).toarray()"
   ]
  },
  {
   "cell_type": "code",
   "execution_count": 11,
   "metadata": {},
   "outputs": [
    {
     "data": {
      "text/plain": [
       "array([[0., 0.],\n",
       "       [0., 0.],\n",
       "       [0., 0.],\n",
       "       [0., 0.],\n",
       "       [0., 0.],\n",
       "       [0., 0.]])"
      ]
     },
     "execution_count": 11,
     "metadata": {},
     "output_type": "execute_result"
    }
   ],
   "source": [
    "sparse.csc_matrix(((Np+1)*nx, Nc*nu)).toarray()"
   ]
  },
  {
   "cell_type": "code",
   "execution_count": 15,
   "metadata": {},
   "outputs": [],
   "source": [
    "n_eps = 6"
   ]
  },
  {
   "cell_type": "markdown",
   "metadata": {},
   "source": [
    "### state constraint matrix"
   ]
  },
  {
   "cell_type": "code",
   "execution_count": 21,
   "metadata": {},
   "outputs": [
    {
     "data": {
      "text/plain": [
       "array([[1., 0., 0., 0., 0., 0., 0., 0.],\n",
       "       [0., 1., 0., 0., 0., 0., 0., 0.],\n",
       "       [0., 0., 1., 0., 0., 0., 0., 0.],\n",
       "       [0., 0., 0., 1., 0., 0., 0., 0.],\n",
       "       [0., 0., 0., 0., 1., 0., 0., 0.],\n",
       "       [0., 0., 0., 0., 0., 1., 0., 0.]])"
      ]
     },
     "execution_count": 21,
     "metadata": {},
     "output_type": "execute_result"
    }
   ],
   "source": [
    "Aineq_x = sparse.hstack([sparse.eye((Np + 1) * nx), sparse.csc_matrix(((Np+1)*nx, Nc*nu))])\n",
    "Aineq_x.toarray()"
   ]
  },
  {
   "cell_type": "code",
   "execution_count": 23,
   "metadata": {},
   "outputs": [
    {
     "data": {
      "text/plain": [
       "array([[1., 0., 0., 0., 0., 0., 0., 0., 1., 0., 0., 0., 0., 0.],\n",
       "       [0., 1., 0., 0., 0., 0., 0., 0., 0., 1., 0., 0., 0., 0.],\n",
       "       [0., 0., 1., 0., 0., 0., 0., 0., 0., 0., 1., 0., 0., 0.],\n",
       "       [0., 0., 0., 1., 0., 0., 0., 0., 0., 0., 0., 1., 0., 0.],\n",
       "       [0., 0., 0., 0., 1., 0., 0., 0., 0., 0., 0., 0., 1., 0.],\n",
       "       [0., 0., 0., 0., 0., 1., 0., 0., 0., 0., 0., 0., 0., 1.]])"
      ]
     },
     "execution_count": 23,
     "metadata": {},
     "output_type": "execute_result"
    }
   ],
   "source": [
    "Aineq_x = sparse.hstack([Aineq_x, sparse.eye(n_eps)])\n",
    "Aineq_x.toarray()"
   ]
  },
  {
   "cell_type": "code",
   "execution_count": 27,
   "metadata": {},
   "outputs": [],
   "source": [
    "xmin = [2,1]\n",
    "xmax = [3,2]"
   ]
  },
  {
   "cell_type": "code",
   "execution_count": 28,
   "metadata": {},
   "outputs": [
    {
     "data": {
      "text/plain": [
       "array([2., 1., 2., 1., 2., 1.])"
      ]
     },
     "execution_count": 28,
     "metadata": {},
     "output_type": "execute_result"
    }
   ],
   "source": [
    "lineq_x = np.kron(np.ones(Np + 1), xmin) \n",
    "uineq_x = np.kron(np.ones(Np + 1), xmax) \n",
    "lineq_x"
   ]
  },
  {
   "cell_type": "markdown",
   "metadata": {},
   "source": [
    "### input constraint matrix"
   ]
  },
  {
   "cell_type": "code",
   "execution_count": 20,
   "metadata": {},
   "outputs": [
    {
     "data": {
      "text/plain": [
       "array([[0., 0., 0., 0., 0., 0., 1., 0.],\n",
       "       [0., 0., 0., 0., 0., 0., 0., 1.]])"
      ]
     },
     "execution_count": 20,
     "metadata": {},
     "output_type": "execute_result"
    }
   ],
   "source": [
    "Aineq_u = sparse.hstack([sparse.csc_matrix((Nc*nu, (Np+1)*nx)), sparse.eye(Nc * nu)])\n",
    "Aineq_u.toarray()"
   ]
  },
  {
   "cell_type": "code",
   "execution_count": 18,
   "metadata": {},
   "outputs": [
    {
     "data": {
      "text/plain": [
       "array([[0., 0., 0., 0., 0., 0., 1., 0., 0., 0., 0., 0., 0., 0., 0., 0.,\n",
       "        0., 0., 0., 0., 0., 0., 0., 0., 0., 0.],\n",
       "       [0., 0., 0., 0., 0., 0., 0., 1., 0., 0., 0., 0., 0., 0., 0., 0.,\n",
       "        0., 0., 0., 0., 0., 0., 0., 0., 0., 0.]])"
      ]
     },
     "execution_count": 18,
     "metadata": {},
     "output_type": "execute_result"
    }
   ],
   "source": [
    "\n",
    "Aineq_u = sparse.hstack([Aineq_u, sparse.csc_matrix((Aineq_u.shape[0], n_eps))]) \n",
    "Aineq_u.toarray()"
   ]
  },
  {
   "cell_type": "code",
   "execution_count": 4,
   "metadata": {},
   "outputs": [
    {
     "data": {
      "text/plain": [
       "array([3., 3.])"
      ]
     },
     "execution_count": 4,
     "metadata": {},
     "output_type": "execute_result"
    }
   ],
   "source": [
    "lineq_u = np.kron(np.ones(Nc), umin)   \n",
    "lineq_u"
   ]
  },
  {
   "cell_type": "markdown",
   "metadata": {},
   "source": [
    "### delta u constraint"
   ]
  },
  {
   "cell_type": "code",
   "execution_count": 31,
   "metadata": {},
   "outputs": [
    {
     "data": {
      "text/plain": [
       "array([[0., 0., 0., 0., 0., 0., 1., 0.]])"
      ]
     },
     "execution_count": 31,
     "metadata": {},
     "output_type": "execute_result"
    }
   ],
   "source": [
    "sparse.hstack([np.zeros((nu, (Np + 1) * nx)), sparse.eye(nu), np.zeros((nu, (Nc - 1) * nu))]).toarray()"
   ]
  },
  {
   "cell_type": "code",
   "execution_count": 33,
   "metadata": {},
   "outputs": [
    {
     "data": {
      "text/plain": [
       "array([[ 0.,  0.,  0.,  0.,  0.,  0., -1.,  1.],\n",
       "       [ 0.,  0.,  0.,  0.,  0.,  0.,  0., -1.]])"
      ]
     },
     "execution_count": 33,
     "metadata": {},
     "output_type": "execute_result"
    }
   ],
   "source": [
    "sparse.hstack([np.zeros((Nc * nu, (Np+1) * nx)), -sparse.eye(Nc * nu) + sparse.eye(Nc * nu, k=1)]).toarray()"
   ]
  },
  {
   "cell_type": "code",
   "execution_count": 29,
   "metadata": {},
   "outputs": [
    {
     "data": {
      "text/plain": [
       "array([[ 0.,  0.,  0.,  0.,  0.,  0.,  1.,  0.],\n",
       "       [ 0.,  0.,  0.,  0.,  0.,  0., -1.,  1.],\n",
       "       [ 0.,  0.,  0.,  0.,  0.,  0.,  0., -1.]])"
      ]
     },
     "execution_count": 29,
     "metadata": {},
     "output_type": "execute_result"
    }
   ],
   "source": [
    "Aineq_du = sparse.vstack([sparse.hstack([np.zeros((nu, (Np + 1) * nx)), sparse.eye(nu), np.zeros((nu, (Nc - 1) * nu))]),  # for u0 - u-1\n",
    "                                  sparse.hstack([np.zeros((Nc * nu, (Np+1) * nx)), -sparse.eye(Nc * nu) + sparse.eye(Nc * nu, k=1)])  # for uk - uk-1, k=1...Np\n",
    "                                  ]\n",
    "                                 )\n",
    "Aineq_du.toarray()"
   ]
  },
  {
   "cell_type": "markdown",
   "metadata": {},
   "source": [
    "### dynamics constraint"
   ]
  },
  {
   "cell_type": "code",
   "execution_count": 61,
   "metadata": {},
   "outputs": [],
   "source": [
    "Ad = [[1,2],[2,4]]"
   ]
  },
  {
   "cell_type": "code",
   "execution_count": 62,
   "metadata": {},
   "outputs": [
    {
     "data": {
      "text/plain": [
       "array([[-1.,  0.,  0.,  0.,  0.,  0.],\n",
       "       [ 0., -1.,  0.,  0.,  0.,  0.],\n",
       "       [ 1.,  2., -1.,  0.,  0.,  0.],\n",
       "       [ 2.,  4.,  0., -1.,  0.,  0.],\n",
       "       [ 0.,  0.,  1.,  2., -1.,  0.],\n",
       "       [ 0.,  0.,  2.,  4.,  0., -1.]])"
      ]
     },
     "execution_count": 62,
     "metadata": {},
     "output_type": "execute_result"
    }
   ],
   "source": [
    "Ax = sparse.kron(sparse.eye(Np + 1), -sparse.eye(nx)) + sparse.kron(sparse.eye(Np + 1, k=-1), Ad)\n",
    "Ax.toarray()"
   ]
  },
  {
   "cell_type": "code",
   "execution_count": 40,
   "metadata": {},
   "outputs": [
    {
     "data": {
      "text/plain": [
       "array([[1., 0., 0., 0.],\n",
       "       [0., 1., 0., 0.],\n",
       "       [0., 0., 1., 0.],\n",
       "       [0., 0., 0., 1.]])"
      ]
     },
     "execution_count": 40,
     "metadata": {},
     "output_type": "execute_result"
    }
   ],
   "source": [
    "sparse.eye(4).toarray()"
   ]
  },
  {
   "cell_type": "markdown",
   "metadata": {},
   "source": [
    "### basics"
   ]
  },
  {
   "cell_type": "code",
   "execution_count": 42,
   "metadata": {},
   "outputs": [
    {
     "data": {
      "text/plain": [
       "array([[-1.,  0.,  0.,  0.,  0.,  0.],\n",
       "       [ 0., -1.,  0.,  0.,  0.,  0.],\n",
       "       [ 0.,  0., -1.,  0.,  0.,  0.],\n",
       "       [ 0.,  0.,  0., -1.,  0.,  0.],\n",
       "       [ 0.,  0.,  0.,  0., -1.,  0.],\n",
       "       [ 0.,  0.,  0.,  0.,  0., -1.]])"
      ]
     },
     "execution_count": 42,
     "metadata": {},
     "output_type": "execute_result"
    }
   ],
   "source": [
    "sparse.kron(sparse.eye(Np + 1), -sparse.eye(nx)).toarray()"
   ]
  },
  {
   "cell_type": "code",
   "execution_count": 44,
   "metadata": {},
   "outputs": [
    {
     "data": {
      "text/plain": [
       "array([[0., 0., 0.],\n",
       "       [1., 0., 0.],\n",
       "       [0., 1., 0.]])"
      ]
     },
     "execution_count": 44,
     "metadata": {},
     "output_type": "execute_result"
    }
   ],
   "source": [
    "sparse.eye(Np + 1, k=-1).toarray()"
   ]
  },
  {
   "cell_type": "code",
   "execution_count": 46,
   "metadata": {},
   "outputs": [
    {
     "data": {
      "text/plain": [
       "array([[0., 0.],\n",
       "       [1., 0.],\n",
       "       [0., 1.]])"
      ]
     },
     "execution_count": 46,
     "metadata": {},
     "output_type": "execute_result"
    }
   ],
   "source": [
    "iBu = sparse.vstack([\n",
    "    sparse.csc_matrix((1, Nc)),  # Row of zeros for k=0\n",
    "    sparse.eye(Nc)               # Identity matrix for k=1 to Nc\n",
    "])\n",
    "iBu.toarray()"
   ]
  },
  {
   "cell_type": "code",
   "execution_count": 55,
   "metadata": {},
   "outputs": [],
   "source": [
    "Bd = [[1],[2]]"
   ]
  },
  {
   "cell_type": "code",
   "execution_count": 56,
   "metadata": {},
   "outputs": [
    {
     "data": {
      "text/plain": [
       "array([[0., 0.],\n",
       "       [0., 0.],\n",
       "       [1., 0.],\n",
       "       [2., 0.],\n",
       "       [0., 1.],\n",
       "       [0., 2.]])"
      ]
     },
     "execution_count": 56,
     "metadata": {},
     "output_type": "execute_result"
    }
   ],
   "source": [
    "Bu = sparse.kron(iBu, Bd)\n",
    "Bu.toarray()"
   ]
  },
  {
   "cell_type": "code",
   "execution_count": 58,
   "metadata": {},
   "outputs": [
    {
     "data": {
      "text/plain": [
       "array([[-1.,  0.,  0.,  0.,  0.,  0.,  0.,  0.],\n",
       "       [ 0., -1.,  0.,  0.,  0.,  0.,  0.,  0.],\n",
       "       [ 1.,  2., -1.,  0.,  0.,  0.,  1.,  0.],\n",
       "       [ 2.,  4.,  0., -1.,  0.,  0.,  2.,  0.],\n",
       "       [ 0.,  0.,  1.,  2., -1.,  0.,  0.,  1.],\n",
       "       [ 0.,  0.,  2.,  4.,  0., -1.,  0.,  2.]])"
      ]
     },
     "execution_count": 58,
     "metadata": {},
     "output_type": "execute_result"
    }
   ],
   "source": [
    "Aeq_dyn = sparse.hstack([Ax, Bu])\n",
    "Aeq_dyn.toarray()"
   ]
  },
  {
   "cell_type": "code",
   "execution_count": 67,
   "metadata": {},
   "outputs": [],
   "source": [
    "x0 = 1"
   ]
  },
  {
   "cell_type": "code",
   "execution_count": 68,
   "metadata": {},
   "outputs": [
    {
     "data": {
      "text/plain": [
       "array([-1.,  0.,  0.,  0.,  0.])"
      ]
     },
     "execution_count": 68,
     "metadata": {},
     "output_type": "execute_result"
    }
   ],
   "source": [
    "leq_dyn = np.hstack([-x0, np.zeros(Np * nx)])\n",
    "leq_dyn"
   ]
  },
  {
   "cell_type": "markdown",
   "metadata": {},
   "source": [
    "## oqsp solver"
   ]
  },
  {
   "cell_type": "markdown",
   "metadata": {},
   "source": [
    "$$\n",
    "\\begin{aligned}\n",
    "&\\min_{x} \\quad \\frac{1}{2} x^\\top \n",
    "\\begin{bmatrix}\n",
    "4 & 1 \\\\\n",
    "1 & 2\n",
    "\\end{bmatrix} x + \n",
    "\\begin{bmatrix}\n",
    "1 \\\\\n",
    "1\n",
    "\\end{bmatrix}^\\top x \\\\\n",
    "&\\text{subject to}\n",
    "\\begin{bmatrix}\n",
    "1 \\\\\n",
    "0 \\\\\n",
    "0\n",
    "\\end{bmatrix}\n",
    "\\leq\n",
    "\\begin{bmatrix}\n",
    "1 & 1 \\\\\n",
    "1 & 0 \\\\\n",
    "0 & 1\n",
    "\\end{bmatrix} x \\leq\n",
    "\\begin{bmatrix}\n",
    "1 \\\\\n",
    "0.7 \\\\\n",
    "0.7\n",
    "\\end{bmatrix}\n",
    "\\end{aligned}\n",
    "$$"
   ]
  },
  {
   "cell_type": "code",
   "execution_count": 23,
   "metadata": {},
   "outputs": [],
   "source": [
    "import osqp\n",
    "import numpy as np \n",
    "from scipy import sparse\n",
    "\n",
    "\n",
    "# Define problem data\n",
    "P = sparse.csc_matrix([[4,1],[1,2]])\n",
    "q = np.array([1, 1])\n",
    "A = sparse.csc_matrix([[1, 1], [1, 0], [0, 1]])\n",
    "l = np.array([1, 0, 0])\n",
    "u = np.array([1, 0.7, 0.7])\n",
    "\n",
    "# Create an OSQP object\n",
    "prob = osqp.OSQP()\n",
    "\n"
   ]
  },
  {
   "cell_type": "code",
   "execution_count": 24,
   "metadata": {},
   "outputs": [
    {
     "name": "stdout",
     "output_type": "stream",
     "text": [
      "-----------------------------------------------------------------\n",
      "           OSQP v0.6.3  -  Operator Splitting QP Solver\n",
      "              (c) Bartolomeo Stellato,  Goran Banjac\n",
      "        University of Oxford  -  Stanford University 2021\n",
      "-----------------------------------------------------------------\n",
      "problem:  variables n = 2, constraints m = 3\n",
      "          nnz(P) + nnz(A) = 7\n",
      "settings: linear system solver = qdldl,\n",
      "          eps_abs = 1.0e-03, eps_rel = 1.0e-03,\n",
      "          eps_prim_inf = 1.0e-04, eps_dual_inf = 1.0e-04,\n",
      "          rho = 1.00e-01 (adaptive),\n",
      "          sigma = 1.00e-06, alpha = 1.00, max_iter = 10000\n",
      "          check_termination: on (interval 25),\n",
      "          scaling: on, scaled_termination: off\n",
      "          warm start: on, polish: off, time_limit: off\n",
      "\n"
     ]
    }
   ],
   "source": [
    "prob.setup(P, q, A, l, u, alpha=1.0,max_iter=10000)\n"
   ]
  },
  {
   "cell_type": "code",
   "execution_count": 25,
   "metadata": {},
   "outputs": [
    {
     "name": "stdout",
     "output_type": "stream",
     "text": [
      "iter   objective    pri res    dua res    rho        time\n",
      "   1  -4.9384e-03   1.00e+00   2.00e+02   1.00e-01   8.06e-05s\n",
      "  50   1.8800e+00   1.91e-07   7.50e-07   1.38e+00   4.68e-04s\n",
      "\n",
      "status:               solved\n",
      "number of iterations: 50\n",
      "optimal objective:    1.8800\n",
      "run time:             5.21e-04s\n",
      "optimal rho estimate: 1.36e+00\n",
      "\n"
     ]
    }
   ],
   "source": [
    "res = prob.solve()"
   ]
  },
  {
   "cell_type": "code",
   "execution_count": 30,
   "metadata": {},
   "outputs": [
    {
     "data": {
      "text/plain": [
       "array([-2.89999982e+00,  3.98446616e-18,  2.00000015e-01])"
      ]
     },
     "execution_count": 30,
     "metadata": {},
     "output_type": "execute_result"
    }
   ],
   "source": [
    "res.y"
   ]
  },
  {
   "cell_type": "code",
   "execution_count": 31,
   "metadata": {},
   "outputs": [],
   "source": [
    "q_new = np.array([2, 3])\n",
    "l_new = np.array([2, -1, -1])\n",
    "u_new = np.array([2, 2.5, 2.5])\n",
    "prob.update(q=q_new, l=l_new, u=u_new)\n"
   ]
  },
  {
   "cell_type": "code",
   "execution_count": 32,
   "metadata": {},
   "outputs": [
    {
     "name": "stdout",
     "output_type": "stream",
     "text": [
      "iter   objective    pri res    dua res    rho        time\n",
      "   1   3.5254e+00   1.00e+00   2.76e+03   1.38e+00   1.72e-04s\n",
      "  25   8.8750e+00   4.52e-10   2.05e-05   1.38e+00   7.29e-04s\n",
      "\n",
      "status:               solved\n",
      "number of iterations: 25\n",
      "optimal objective:    8.8750\n",
      "run time:             7.95e-04s\n",
      "optimal rho estimate: 1.36e-02\n",
      "\n"
     ]
    }
   ],
   "source": [
    "# Solve updated problem\n",
    "res = prob.solve()"
   ]
  }
 ],
 "metadata": {
  "kernelspec": {
   "display_name": "Python 3",
   "language": "python",
   "name": "python3"
  },
  "language_info": {
   "codemirror_mode": {
    "name": "ipython",
    "version": 3
   },
   "file_extension": ".py",
   "mimetype": "text/x-python",
   "name": "python",
   "nbconvert_exporter": "python",
   "pygments_lexer": "ipython3",
   "version": "3.10.12"
  }
 },
 "nbformat": 4,
 "nbformat_minor": 2
}
