{
 "cells": [
  {
   "cell_type": "code",
   "execution_count": 14,
   "metadata": {},
   "outputs": [],
   "source": [
    "import scipy.sparse as sparse\n",
    "import numpy as np"
   ]
  },
  {
   "cell_type": "code",
   "execution_count": 61,
   "metadata": {},
   "outputs": [],
   "source": [
    "\n",
    "JX_ON = True\n",
    "JU_ON = True\n",
    "JDU_ON = True\n",
    "SOFT_ON = True\n",
    "\n"
   ]
  },
  {
   "cell_type": "markdown",
   "metadata": {},
   "source": [
    "## compute the matrices required for Quadratic Program"
   ]
  },
  {
   "cell_type": "code",
   "execution_count": null,
   "metadata": {},
   "outputs": [],
   "source": [
    "def compute_QP_matrices():\n",
    "    Np = 5\n",
    "    Nc = 5 \n",
    "    nx = 4\n",
    "    nu = 1\n",
    "    eps_feas=1e6\n",
    "    Qx = sparse.diags([10., 5., 100., 5.])\n",
    "    QxN = Qx.copy()\n",
    "    Qu = sparse.diags([0.1]) \n",
    "    QDu = np.zeros((nu,nu))\n",
    "    xref = np.array([0., 0., 0., 0.])\n",
    "    uref = np.zeros(nu)\n",
    "    uminus1 = uref\n",
    "    Qeps = eps_feas * sparse.eye(nx)\n",
    "    # Ad = Ad\n",
    "    # Bd = Bd\n",
    "    # x0 = x0\n",
    "    # xmin = xmin\n",
    "    # xmax = xmax\n",
    "    # umin = umin\n",
    "    # umax = umax\n",
    "    # Dumin = Dumin\n",
    "    # Dumax = Dumax\n",
    "    # Qeps = Qeps\n",
    "\n",
    "    # casting the MPC problem to a Quadratic Program \n",
    "    P_X = sparse.csc_matrix(((Np+1)*nx, (Np+1)*nx))\n",
    "    q_X = np.zeros((Np+1)*nx)  # x_N\n",
    "    J_CNST = 0.0\n",
    "    # for penalizing the states\n",
    "    if JX_ON:\n",
    "        P_X += sparse.block_diag([sparse.kron(sparse.eye(Np), Qx),QxN])   # quadratic part \n",
    "        q_X += np.hstack([np.kron(np.ones(Np), -Qx.dot(xref)),-QxN.dot(xref)])  # linear part\n",
    "    else:\n",
    "        pass\n",
    "    # for penalizing the control inputs\n",
    "    P_U = sparse.csc_matrix((Nc*nu, Nc*nu))\n",
    "    q_U = np.zeros(Nc*nu)\n",
    "    if JU_ON:\n",
    "        J_CNST += 1/2*Np*(uref.dot(Qu.dot(uref)))\n",
    "        if Nc == Np:\n",
    "            P_U += sparse.kron(sparse.eye(Nc), Qu)\n",
    "            q_U += np.kron(np.ones(Nc), -Qu.dot(uref))\n",
    "    else:\n",
    "        pass\n",
    "    # for penalizing change in control inputs\n",
    "    if JDU_ON:\n",
    "            J_CNST += 1/2*uminus1.dot((QDu).dot(uminus1))\n",
    "            iDu = 2 * np.eye(Nc) - np.eye(Nc, k=1) - np.eye(Nc, k=-1)\n",
    "            iDu[Nc - 1, Nc - 1] = 1\n",
    "            P_U += sparse.kron(iDu, QDu)\n",
    "            q_U += np.hstack([-QDu.dot(uminus1),np.zeros((Nc - 1) * nu)]) \n",
    "    else:\n",
    "        pass \n",
    "    # introducing soft constraints \n",
    "    if SOFT_ON:\n",
    "            P_eps = sparse.kron(np.eye((Np+1)), Qeps)\n",
    "            q_eps = np.zeros((Np+1)*nx)\n",
    "\n",
    "\n",
    "    # linear dynamics x_k+1 = Ax_k + Bu_k\n",
    "    Ax = sparse.kron(sparse.eye(Np + 1), -sparse.eye(nx)) + sparse.kron(sparse.eye(Np + 1, k=-1), Ad)\n",
    "\n",
    "\n",
    "\n",
    "\n",
    "\n",
    "\n",
    "\n",
    "    \n",
    "    \n",
    "\n",
    "\n",
    "        \n",
    "\n",
    "\n",
    "\n"
   ]
  },
  {
   "cell_type": "code",
   "execution_count": 63,
   "metadata": {},
   "outputs": [],
   "source": [
    "compute_QP_matrices()"
   ]
  },
  {
   "cell_type": "code",
   "execution_count": 32,
   "metadata": {},
   "outputs": [
    {
     "data": {
      "text/plain": [
       "array([1., 1., 1., 1., 1.])"
      ]
     },
     "execution_count": 32,
     "metadata": {},
     "output_type": "execute_result"
    }
   ],
   "source": [
    "np.ones(Np)"
   ]
  },
  {
   "cell_type": "code",
   "execution_count": 31,
   "metadata": {},
   "outputs": [
    {
     "data": {
      "text/plain": [
       "array([-0., -0., -0., -0.])"
      ]
     },
     "execution_count": 31,
     "metadata": {},
     "output_type": "execute_result"
    }
   ],
   "source": [
    "Np = 5\n",
    "Nc = 5 \n",
    "nx = 4\n",
    "nu = 1\n",
    "Qx = sparse.diags([10., 5., 100., 5.])\n",
    "QxN = Qx.copy()\n",
    "Qu = sparse.diags([0.1]) \n",
    "# QDu = QDu\n",
    "xref = np.array([0., 0., 0., 0.])\n",
    "-Qx.dot(xref)"
   ]
  },
  {
   "cell_type": "code",
   "execution_count": 33,
   "metadata": {},
   "outputs": [
    {
     "data": {
      "text/plain": [
       "array([-0., -0., -0., -0., -0., -0., -0., -0., -0., -0., -0., -0., -0.,\n",
       "       -0., -0., -0., -0., -0., -0., -0.])"
      ]
     },
     "execution_count": 33,
     "metadata": {},
     "output_type": "execute_result"
    }
   ],
   "source": [
    "np.kron(np.ones(Np), -Qx.dot(xref))"
   ]
  }
 ],
 "metadata": {
  "kernelspec": {
   "display_name": "Python 3",
   "language": "python",
   "name": "python3"
  },
  "language_info": {
   "codemirror_mode": {
    "name": "ipython",
    "version": 3
   },
   "file_extension": ".py",
   "mimetype": "text/x-python",
   "name": "python",
   "nbconvert_exporter": "python",
   "pygments_lexer": "ipython3",
   "version": "3.10.12"
  }
 },
 "nbformat": 4,
 "nbformat_minor": 2
}
